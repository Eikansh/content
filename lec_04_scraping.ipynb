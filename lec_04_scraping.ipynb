{
 "cells": [
  {
   "cell_type": "markdown",
   "metadata": {
    "deletable": true,
    "editable": true
   },
   "source": [
    "# Scraping Demo\n",
    "Companion to Lecture 4 of Harvard [CS109: Data Science](http://cs109.org)\n"
   ]
  },
  {
   "cell_type": "code",
   "execution_count": 23,
   "metadata": {
    "collapsed": false,
    "deletable": true,
    "editable": true
   },
   "outputs": [],
   "source": [
    "import requests\n",
    "from pattern import web\n",
    "from BeautifulSoup import BeautifulSoup"
   ]
  },
  {
   "cell_type": "markdown",
   "metadata": {
    "deletable": true,
    "editable": true
   },
   "source": [
    "# Task\n",
    "\n",
    "Find and print the movie title, list of genres, runtime, and score of all movies on [this page](http://www.imdb.com/search/title?at=0&sort=num_votes,desc&start=1&title_type=feature&year=1950,2012)"
   ]
  },
  {
   "cell_type": "markdown",
   "metadata": {
    "deletable": true,
    "editable": true
   },
   "source": [
    "### Two ways of making get requests"
   ]
  },
  {
   "cell_type": "markdown",
   "metadata": {
    "deletable": true,
    "editable": true
   },
   "source": [
    "#### 1. Explicit URL"
   ]
  },
  {
   "cell_type": "code",
   "execution_count": 24,
   "metadata": {
    "collapsed": false,
    "deletable": true,
    "editable": true
   },
   "outputs": [
    {
     "name": "stdout",
     "output_type": "stream",
     "text": [
      "http://www.imdb.com/search/title?sort=num_votes,desc&start=1&title_type=feature&year=1950,2012\n"
     ]
    }
   ],
   "source": [
    "url = 'http://www.imdb.com/search/title?sort=num_votes,desc&start=1&title_type=feature&year=1950,2012'\n",
    "r = requests.get(url)\n",
    "print r.url"
   ]
  },
  {
   "cell_type": "markdown",
   "metadata": {
    "deletable": true,
    "editable": true
   },
   "source": [
    "#### 2. Base URL with GET dictionary"
   ]
  },
  {
   "cell_type": "code",
   "execution_count": 25,
   "metadata": {
    "collapsed": false,
    "deletable": true,
    "editable": true
   },
   "outputs": [
    {
     "name": "stdout",
     "output_type": "stream",
     "text": [
      "http://www.imdb.com/search/title?sort=num_votes%2Cdesc&start=1&title_type=feature&year=1950%2C2012\n"
     ]
    }
   ],
   "source": [
    "url = 'http://www.imdb.com/search/title'\n",
    "params = dict(sort='num_votes,desc', start=1, title_type='feature', year='1950,2012')\n",
    "r = requests.get(url, params=params)\n",
    "print r.url  # notice it constructs the full url for you"
   ]
  },
  {
   "cell_type": "markdown",
   "metadata": {
    "deletable": true,
    "editable": true
   },
   "source": [
    "# Using Pattern"
   ]
  },
  {
   "cell_type": "code",
   "execution_count": 26,
   "metadata": {
    "collapsed": false,
    "deletable": true,
    "editable": true
   },
   "outputs": [],
   "source": [
    "#selection in pattern follows the rules of CSS\n",
    "\n",
    "dom = web.Element(r.text)\n",
    "for movie in dom.by_tag('td.title'):    \n",
    "    title = movie.by_tag('a')[0].content\n",
    "    genres = movie.by_tag('span.genre')[0].by_tag('a')\n",
    "    genres = [g.content for g in genres]\n",
    "    runtime = movie.by_tag('span.runtime')[0].content\n",
    "    rating = movie.by_tag('span.value')[0].content\n",
    "    print title, genres, runtime, rating"
   ]
  },
  {
   "cell_type": "markdown",
   "metadata": {
    "deletable": true,
    "editable": true
   },
   "source": [
    "# Using BeautifulSoup"
   ]
  },
  {
   "cell_type": "code",
   "execution_count": 27,
   "metadata": {
    "collapsed": false,
    "deletable": true,
    "editable": true
   },
   "outputs": [],
   "source": [
    "bs = BeautifulSoup(r.text)\n",
    "for movie in bs.findAll('td', 'title'):\n",
    "    title = movie.find('a').contents[0]\n",
    "    genres = movie.find('span', 'genre').findAll('a')\n",
    "    genres = [g.contents[0] for g in genres]\n",
    "    runtime = movie.find('span', 'runtime').contents[0]\n",
    "    rating = movie.find('span', 'value').contents[0]\n",
    "    print title, genres, runtime, rating\n"
   ]
  }
 ],
 "metadata": {
  "kernelspec": {
   "display_name": "Python 2",
   "language": "python",
   "name": "python2"
  },
  "language_info": {
   "codemirror_mode": {
    "name": "ipython",
    "version": 2
   },
   "file_extension": ".py",
   "mimetype": "text/x-python",
   "name": "python",
   "nbconvert_exporter": "python",
   "pygments_lexer": "ipython2",
   "version": "2.7.13"
  }
 },
 "nbformat": 4,
 "nbformat_minor": 0
}
